{
 "cells": [
  {
   "cell_type": "code",
   "execution_count": 1,
   "id": "initial_id",
   "metadata": {
    "collapsed": true,
    "ExecuteTime": {
     "end_time": "2024-07-08T20:56:14.208735100Z",
     "start_time": "2024-07-08T20:56:09.832517800Z"
    }
   },
   "outputs": [],
   "source": [
    "import pandas as pd\n",
    "from Data.preprocess import preprocess, preprocess_sessions\n",
    "from Models.LSTM_model import create_lstm_model, train_lstm_model, preprocess_for_lstm"
   ]
  },
  {
   "cell_type": "code",
   "execution_count": 2,
   "outputs": [],
   "source": [
    "# Load the data\n",
    "drivers_csv = '../Data/drivers.csv'\n",
    "weather_data = pd.read_csv('../Data/weather_data.csv')\n",
    "intervals_data = pd.read_csv('../Data/interval_data.csv')\n",
    "pit_data = pd.read_csv('../Data/pit_data.csv')\n",
    "position_data = pd.read_csv('../Data/position_data.csv')\n",
    "session_data = pd.read_csv('../Data/session_data.csv')\n",
    "stint_data = pd.read_csv('../Data/stint_data.csv')\n",
    "lap_data_files = [\n",
    "    '../Data/lap_data_1.csv', '../Data/lap_data_2.csv', '../Data/lap_data_3.csv',\n",
    "    '../Data/lap_data_4.csv', '../Data/lap_data_10.csv', '../Data/lap_data_11.csv',\n",
    "    '../Data/lap_data_14.csv', '../Data/lap_data_16.csv', '../Data/lap_data_18.csv',\n",
    "    '../Data/lap_data_20.csv', '../Data/lap_data_22.csv', '../Data/lap_data_23.csv',\n",
    "    '../Data/lap_data_24.csv', '../Data/lap_data_27.csv', '../Data/lap_data_31.csv',\n",
    "    '../Data/lap_data_44.csv', '../Data/lap_data_55.csv', '../Data/lap_data_63.csv',\n",
    "    '../Data/lap_data_77.csv', '../Data/lap_data_81.csv'\n",
    "]"
   ],
   "metadata": {
    "collapsed": false,
    "ExecuteTime": {
     "end_time": "2024-07-08T20:56:14.738949Z",
     "start_time": "2024-07-08T20:56:14.213929900Z"
    }
   },
   "id": "e42b480b41bca1a3"
  },
  {
   "cell_type": "code",
   "execution_count": 3,
   "outputs": [
    {
     "ename": "MemoryError",
     "evalue": "Unable to allocate 27.4 GiB for an array with shape (3679251756,) and data type int64",
     "output_type": "error",
     "traceback": [
      "\u001B[1;31m---------------------------------------------------------------------------\u001B[0m",
      "\u001B[1;31mMemoryError\u001B[0m                               Traceback (most recent call last)",
      "Cell \u001B[1;32mIn[3], line 5\u001B[0m\n\u001B[0;32m      3\u001B[0m main_df \u001B[38;5;241m=\u001B[39m preprocess(main_df, intervals_data, suffix\u001B[38;5;241m=\u001B[39m\u001B[38;5;124m'\u001B[39m\u001B[38;5;124m_intervals\u001B[39m\u001B[38;5;124m'\u001B[39m)\n\u001B[0;32m      4\u001B[0m main_df \u001B[38;5;241m=\u001B[39m preprocess(main_df, pit_data, suffix\u001B[38;5;241m=\u001B[39m\u001B[38;5;124m'\u001B[39m\u001B[38;5;124m_pit\u001B[39m\u001B[38;5;124m'\u001B[39m)\n\u001B[1;32m----> 5\u001B[0m main_df \u001B[38;5;241m=\u001B[39m preprocess(main_df, position_data, suffix\u001B[38;5;241m=\u001B[39m\u001B[38;5;124m'\u001B[39m\u001B[38;5;124m_position\u001B[39m\u001B[38;5;124m'\u001B[39m)\n\u001B[0;32m      6\u001B[0m main_df \u001B[38;5;241m=\u001B[39m preprocess(main_df, stint_data, suffix\u001B[38;5;241m=\u001B[39m\u001B[38;5;124m'\u001B[39m\u001B[38;5;124m_stint\u001B[39m\u001B[38;5;124m'\u001B[39m)\n\u001B[0;32m      7\u001B[0m main_df \u001B[38;5;241m=\u001B[39m preprocess(main_df, weather_data, suffix\u001B[38;5;241m=\u001B[39m\u001B[38;5;124m'\u001B[39m\u001B[38;5;124m_weather\u001B[39m\u001B[38;5;124m'\u001B[39m)\n",
      "File \u001B[1;32m~\\Documents\\Projects\\F1-Lap-Prediction\\Data\\preprocess.py:12\u001B[0m, in \u001B[0;36mpreprocess\u001B[1;34m(main_df, api_data, suffix)\u001B[0m\n\u001B[0;32m     11\u001B[0m \u001B[38;5;28;01mdef\u001B[39;00m \u001B[38;5;21mpreprocess\u001B[39m(main_df, api_data, suffix\u001B[38;5;241m=\u001B[39m\u001B[38;5;124m'\u001B[39m\u001B[38;5;124m_api\u001B[39m\u001B[38;5;124m'\u001B[39m):\n\u001B[1;32m---> 12\u001B[0m     combined_df \u001B[38;5;241m=\u001B[39m pd\u001B[38;5;241m.\u001B[39mmerge(main_df, api_data, on\u001B[38;5;241m=\u001B[39m\u001B[38;5;124m'\u001B[39m\u001B[38;5;124mdriver_number\u001B[39m\u001B[38;5;124m'\u001B[39m, how\u001B[38;5;241m=\u001B[39m\u001B[38;5;124m'\u001B[39m\u001B[38;5;124mleft\u001B[39m\u001B[38;5;124m'\u001B[39m, suffixes\u001B[38;5;241m=\u001B[39m(\u001B[38;5;124m'\u001B[39m\u001B[38;5;124m'\u001B[39m, suffix))\n\u001B[0;32m     13\u001B[0m     combined_df\u001B[38;5;241m.\u001B[39mfillna(\u001B[38;5;241m0\u001B[39m, inplace\u001B[38;5;241m=\u001B[39m\u001B[38;5;28;01mTrue\u001B[39;00m)\n\u001B[0;32m     14\u001B[0m     \u001B[38;5;28;01mreturn\u001B[39;00m combined_df\n",
      "File \u001B[1;32m~\\anaconda3\\envs\\F1-Lap-Prediction\\Lib\\site-packages\\pandas\\core\\reshape\\merge.py:184\u001B[0m, in \u001B[0;36mmerge\u001B[1;34m(left, right, how, on, left_on, right_on, left_index, right_index, sort, suffixes, copy, indicator, validate)\u001B[0m\n\u001B[0;32m    169\u001B[0m \u001B[38;5;28;01melse\u001B[39;00m:\n\u001B[0;32m    170\u001B[0m     op \u001B[38;5;241m=\u001B[39m _MergeOperation(\n\u001B[0;32m    171\u001B[0m         left_df,\n\u001B[0;32m    172\u001B[0m         right_df,\n\u001B[1;32m   (...)\u001B[0m\n\u001B[0;32m    182\u001B[0m         validate\u001B[38;5;241m=\u001B[39mvalidate,\n\u001B[0;32m    183\u001B[0m     )\n\u001B[1;32m--> 184\u001B[0m     \u001B[38;5;28;01mreturn\u001B[39;00m op\u001B[38;5;241m.\u001B[39mget_result(copy\u001B[38;5;241m=\u001B[39mcopy)\n",
      "File \u001B[1;32m~\\anaconda3\\envs\\F1-Lap-Prediction\\Lib\\site-packages\\pandas\\core\\reshape\\merge.py:886\u001B[0m, in \u001B[0;36m_MergeOperation.get_result\u001B[1;34m(self, copy)\u001B[0m\n\u001B[0;32m    883\u001B[0m \u001B[38;5;28;01mif\u001B[39;00m \u001B[38;5;28mself\u001B[39m\u001B[38;5;241m.\u001B[39mindicator:\n\u001B[0;32m    884\u001B[0m     \u001B[38;5;28mself\u001B[39m\u001B[38;5;241m.\u001B[39mleft, \u001B[38;5;28mself\u001B[39m\u001B[38;5;241m.\u001B[39mright \u001B[38;5;241m=\u001B[39m \u001B[38;5;28mself\u001B[39m\u001B[38;5;241m.\u001B[39m_indicator_pre_merge(\u001B[38;5;28mself\u001B[39m\u001B[38;5;241m.\u001B[39mleft, \u001B[38;5;28mself\u001B[39m\u001B[38;5;241m.\u001B[39mright)\n\u001B[1;32m--> 886\u001B[0m join_index, left_indexer, right_indexer \u001B[38;5;241m=\u001B[39m \u001B[38;5;28mself\u001B[39m\u001B[38;5;241m.\u001B[39m_get_join_info()\n\u001B[0;32m    888\u001B[0m result \u001B[38;5;241m=\u001B[39m \u001B[38;5;28mself\u001B[39m\u001B[38;5;241m.\u001B[39m_reindex_and_concat(\n\u001B[0;32m    889\u001B[0m     join_index, left_indexer, right_indexer, copy\u001B[38;5;241m=\u001B[39mcopy\n\u001B[0;32m    890\u001B[0m )\n\u001B[0;32m    891\u001B[0m result \u001B[38;5;241m=\u001B[39m result\u001B[38;5;241m.\u001B[39m__finalize__(\u001B[38;5;28mself\u001B[39m, method\u001B[38;5;241m=\u001B[39m\u001B[38;5;28mself\u001B[39m\u001B[38;5;241m.\u001B[39m_merge_type)\n",
      "File \u001B[1;32m~\\anaconda3\\envs\\F1-Lap-Prediction\\Lib\\site-packages\\pandas\\core\\reshape\\merge.py:1151\u001B[0m, in \u001B[0;36m_MergeOperation._get_join_info\u001B[1;34m(self)\u001B[0m\n\u001B[0;32m   1147\u001B[0m     join_index, right_indexer, left_indexer \u001B[38;5;241m=\u001B[39m _left_join_on_index(\n\u001B[0;32m   1148\u001B[0m         right_ax, left_ax, \u001B[38;5;28mself\u001B[39m\u001B[38;5;241m.\u001B[39mright_join_keys, sort\u001B[38;5;241m=\u001B[39m\u001B[38;5;28mself\u001B[39m\u001B[38;5;241m.\u001B[39msort\n\u001B[0;32m   1149\u001B[0m     )\n\u001B[0;32m   1150\u001B[0m \u001B[38;5;28;01melse\u001B[39;00m:\n\u001B[1;32m-> 1151\u001B[0m     (left_indexer, right_indexer) \u001B[38;5;241m=\u001B[39m \u001B[38;5;28mself\u001B[39m\u001B[38;5;241m.\u001B[39m_get_join_indexers()\n\u001B[0;32m   1153\u001B[0m     \u001B[38;5;28;01mif\u001B[39;00m \u001B[38;5;28mself\u001B[39m\u001B[38;5;241m.\u001B[39mright_index:\n\u001B[0;32m   1154\u001B[0m         \u001B[38;5;28;01mif\u001B[39;00m \u001B[38;5;28mlen\u001B[39m(\u001B[38;5;28mself\u001B[39m\u001B[38;5;241m.\u001B[39mleft) \u001B[38;5;241m>\u001B[39m \u001B[38;5;241m0\u001B[39m:\n",
      "File \u001B[1;32m~\\anaconda3\\envs\\F1-Lap-Prediction\\Lib\\site-packages\\pandas\\core\\reshape\\merge.py:1125\u001B[0m, in \u001B[0;36m_MergeOperation._get_join_indexers\u001B[1;34m(self)\u001B[0m\n\u001B[0;32m   1123\u001B[0m \u001B[38;5;66;03m# make mypy happy\u001B[39;00m\n\u001B[0;32m   1124\u001B[0m \u001B[38;5;28;01massert\u001B[39;00m \u001B[38;5;28mself\u001B[39m\u001B[38;5;241m.\u001B[39mhow \u001B[38;5;241m!=\u001B[39m \u001B[38;5;124m\"\u001B[39m\u001B[38;5;124masof\u001B[39m\u001B[38;5;124m\"\u001B[39m\n\u001B[1;32m-> 1125\u001B[0m \u001B[38;5;28;01mreturn\u001B[39;00m get_join_indexers(\n\u001B[0;32m   1126\u001B[0m     \u001B[38;5;28mself\u001B[39m\u001B[38;5;241m.\u001B[39mleft_join_keys, \u001B[38;5;28mself\u001B[39m\u001B[38;5;241m.\u001B[39mright_join_keys, sort\u001B[38;5;241m=\u001B[39m\u001B[38;5;28mself\u001B[39m\u001B[38;5;241m.\u001B[39msort, how\u001B[38;5;241m=\u001B[39m\u001B[38;5;28mself\u001B[39m\u001B[38;5;241m.\u001B[39mhow\n\u001B[0;32m   1127\u001B[0m )\n",
      "File \u001B[1;32m~\\anaconda3\\envs\\F1-Lap-Prediction\\Lib\\site-packages\\pandas\\core\\reshape\\merge.py:1759\u001B[0m, in \u001B[0;36mget_join_indexers\u001B[1;34m(left_keys, right_keys, sort, how)\u001B[0m\n\u001B[0;32m   1757\u001B[0m     _, lidx, ridx \u001B[38;5;241m=\u001B[39m left\u001B[38;5;241m.\u001B[39mjoin(right, how\u001B[38;5;241m=\u001B[39mhow, return_indexers\u001B[38;5;241m=\u001B[39m\u001B[38;5;28;01mTrue\u001B[39;00m, sort\u001B[38;5;241m=\u001B[39msort)\n\u001B[0;32m   1758\u001B[0m \u001B[38;5;28;01melse\u001B[39;00m:\n\u001B[1;32m-> 1759\u001B[0m     lidx, ridx \u001B[38;5;241m=\u001B[39m get_join_indexers_non_unique(\n\u001B[0;32m   1760\u001B[0m         left\u001B[38;5;241m.\u001B[39m_values, right\u001B[38;5;241m.\u001B[39m_values, sort, how\n\u001B[0;32m   1761\u001B[0m     )\n\u001B[0;32m   1763\u001B[0m \u001B[38;5;28;01mif\u001B[39;00m lidx \u001B[38;5;129;01mis\u001B[39;00m \u001B[38;5;129;01mnot\u001B[39;00m \u001B[38;5;28;01mNone\u001B[39;00m \u001B[38;5;129;01mand\u001B[39;00m is_range_indexer(lidx, \u001B[38;5;28mlen\u001B[39m(left)):\n\u001B[0;32m   1764\u001B[0m     lidx \u001B[38;5;241m=\u001B[39m \u001B[38;5;28;01mNone\u001B[39;00m\n",
      "File \u001B[1;32m~\\anaconda3\\envs\\F1-Lap-Prediction\\Lib\\site-packages\\pandas\\core\\reshape\\merge.py:1795\u001B[0m, in \u001B[0;36mget_join_indexers_non_unique\u001B[1;34m(left, right, sort, how)\u001B[0m\n\u001B[0;32m   1793\u001B[0m lkey, rkey, count \u001B[38;5;241m=\u001B[39m _factorize_keys(left, right, sort\u001B[38;5;241m=\u001B[39msort)\n\u001B[0;32m   1794\u001B[0m \u001B[38;5;28;01mif\u001B[39;00m how \u001B[38;5;241m==\u001B[39m \u001B[38;5;124m\"\u001B[39m\u001B[38;5;124mleft\u001B[39m\u001B[38;5;124m\"\u001B[39m:\n\u001B[1;32m-> 1795\u001B[0m     lidx, ridx \u001B[38;5;241m=\u001B[39m libjoin\u001B[38;5;241m.\u001B[39mleft_outer_join(lkey, rkey, count, sort\u001B[38;5;241m=\u001B[39msort)\n\u001B[0;32m   1796\u001B[0m \u001B[38;5;28;01melif\u001B[39;00m how \u001B[38;5;241m==\u001B[39m \u001B[38;5;124m\"\u001B[39m\u001B[38;5;124mright\u001B[39m\u001B[38;5;124m\"\u001B[39m:\n\u001B[0;32m   1797\u001B[0m     ridx, lidx \u001B[38;5;241m=\u001B[39m libjoin\u001B[38;5;241m.\u001B[39mleft_outer_join(rkey, lkey, count, sort\u001B[38;5;241m=\u001B[39msort)\n",
      "File \u001B[1;32mjoin.pyx:156\u001B[0m, in \u001B[0;36mpandas._libs.join.left_outer_join\u001B[1;34m()\u001B[0m\n",
      "\u001B[1;31mMemoryError\u001B[0m: Unable to allocate 27.4 GiB for an array with shape (3679251756,) and data type int64"
     ]
    }
   ],
   "source": [
    "# Preprocess the data\n",
    "main_df = preprocess_sessions(drivers_csv, session_data)\n",
    "main_df = preprocess(main_df, intervals_data, suffix='_intervals')\n",
    "main_df = preprocess(main_df, pit_data, suffix='_pit')\n",
    "main_df = preprocess(main_df, position_data, suffix='_position')\n",
    "main_df = preprocess(main_df, stint_data, suffix='_stint')\n",
    "main_df = preprocess(main_df, weather_data, suffix='_weather')\n",
    "\n",
    "# Preprocess lap data\n",
    "for i, lap_file in enumerate(lap_data_files):\n",
    "    lap_data = pd.read_csv(lap_file)\n",
    "    main_df = preprocess(main_df, lap_data, suffix=f'_lap{i+1}')\n",
    "\n",
    "# Prepare data for LSTM\n",
    "scaled_data, scaler = preprocess_for_lstm(main_df.values)\n",
    "X_train, y_train = scaled_data[:, :-1], scaled_data[:, -1]\n",
    "\n",
    "# Reshape input to be 3D [samples, timesteps, features]\n",
    "X_train = X_train.reshape((X_train.shape[0], 1, X_train.shape[1]))\n",
    "\n",
    "# Create and train model\n",
    "input_shape = (X_train.shape[1], X_train.shape[2])\n",
    "model = create_lstm_model(input_shape)\n",
    "model = train_lstm_model(model, X_train, y_train)"
   ],
   "metadata": {
    "collapsed": false,
    "ExecuteTime": {
     "end_time": "2024-07-08T21:05:24.555241800Z",
     "start_time": "2024-07-08T20:56:14.738949Z"
    }
   },
   "id": "4a55c410a8de531b"
  }
 ],
 "metadata": {
  "kernelspec": {
   "display_name": "Python 3",
   "language": "python",
   "name": "python3"
  },
  "language_info": {
   "codemirror_mode": {
    "name": "ipython",
    "version": 2
   },
   "file_extension": ".py",
   "mimetype": "text/x-python",
   "name": "python",
   "nbconvert_exporter": "python",
   "pygments_lexer": "ipython2",
   "version": "2.7.6"
  }
 },
 "nbformat": 4,
 "nbformat_minor": 5
}
