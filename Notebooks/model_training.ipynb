{
 "cells": [
  {
   "cell_type": "code",
   "execution_count": 1,
   "id": "initial_id",
   "metadata": {
    "collapsed": true,
    "ExecuteTime": {
     "end_time": "2024-07-08T20:33:59.053399500Z",
     "start_time": "2024-07-08T20:33:55.325799600Z"
    }
   },
   "outputs": [],
   "source": [
    "import pandas as pd\n",
    "from Data.preprocess import preprocess, preprocess_sessions\n",
    "from Models.LSTM_model import create_lstm_model, train_lstm_model, preprocess_for_lstm"
   ]
  },
  {
   "cell_type": "code",
   "execution_count": 2,
   "outputs": [],
   "source": [
    "drivers_csv = '../Data/drivers.csv'\n",
    "weather_data = pd.read_csv('../Data/weather_data.csv')\n",
    "intervals_data = pd.read_csv('../Data/interval_data.csv')\n",
    "pit_data = pd.read_csv('../Data/pit_data.csv')\n",
    "position_data = pd.read_csv('../Data/position_data.csv')\n",
    "session_data = pd.read_csv('../Data/session_data.csv')\n",
    "stint_data = pd.read_csv('../Data/stint_data.csv')\n",
    "lap_data_files = [\n",
    "    '../Data/lap_data_1.csv', '../Data/lap_data_2.csv', '../Data/lap_data_3.csv',\n",
    "    '../Data/lap_data_4.csv', '../Data/lap_data_10.csv', '../Data/lap_data_11.csv',\n",
    "    '../Data/lap_data_14.csv', '../Data/lap_data_16.csv', '../Data/lap_data_18.csv',\n",
    "    '../Data/lap_data_20.csv', '../Data/lap_data_22.csv', '../Data/lap_data_23.csv',\n",
    "    '../Data/lap_data_24.csv', '../Data/lap_data_27.csv', '../Data/lap_data_31.csv',\n",
    "    '../Data/lap_data_44.csv', '../Data/lap_data_55.csv', '../Data/lap_data_63.csv',\n",
    "    '../Data/lap_data_77.csv', '../Data/lap_data_81.csv'\n",
    "]"
   ],
   "metadata": {
    "collapsed": false,
    "ExecuteTime": {
     "end_time": "2024-07-08T20:34:00.263094400Z",
     "start_time": "2024-07-08T20:33:59.751465200Z"
    }
   },
   "id": "e42b480b41bca1a3"
  },
  {
   "cell_type": "code",
   "execution_count": 3,
   "outputs": [
    {
     "ename": "TypeError",
     "evalue": "Can only merge Series or DataFrame objects, a <class 'str'> was passed",
     "output_type": "error",
     "traceback": [
      "\u001B[1;31m---------------------------------------------------------------------------\u001B[0m",
      "\u001B[1;31mTypeError\u001B[0m                                 Traceback (most recent call last)",
      "Cell \u001B[1;32mIn[3], line 2\u001B[0m\n\u001B[0;32m      1\u001B[0m \u001B[38;5;66;03m# Preprocess the data\u001B[39;00m\n\u001B[1;32m----> 2\u001B[0m main_df \u001B[38;5;241m=\u001B[39m preprocess_sessions(drivers_csv, session_data)\n\u001B[0;32m      3\u001B[0m main_df \u001B[38;5;241m=\u001B[39m preprocess(main_df, intervals_data)\n\u001B[0;32m      4\u001B[0m main_df \u001B[38;5;241m=\u001B[39m preprocess(main_df, pit_data)\n",
      "File \u001B[1;32m~\\Documents\\Projects\\F1-Lap-Prediction\\Data\\preprocess.py:13\u001B[0m, in \u001B[0;36mpreprocess_sessions\u001B[1;34m(df, session_data)\u001B[0m\n\u001B[0;32m     11\u001B[0m \u001B[38;5;28;01mdef\u001B[39;00m \u001B[38;5;21mpreprocess_sessions\u001B[39m(df, session_data):\n\u001B[0;32m     12\u001B[0m     \u001B[38;5;66;03m#drivers_df = pd.read_csv('../Data/drivers.csv')\u001B[39;00m\n\u001B[1;32m---> 13\u001B[0m     combined_df \u001B[38;5;241m=\u001B[39m pd\u001B[38;5;241m.\u001B[39mmerge(session_data, df, on\u001B[38;5;241m=\u001B[39m\u001B[38;5;124m'\u001B[39m\u001B[38;5;124msession_key\u001B[39m\u001B[38;5;124m'\u001B[39m, how\u001B[38;5;241m=\u001B[39m\u001B[38;5;124m'\u001B[39m\u001B[38;5;124mleft\u001B[39m\u001B[38;5;124m'\u001B[39m)\n\u001B[0;32m     14\u001B[0m     combined_df\u001B[38;5;241m.\u001B[39mfillna(\u001B[38;5;241m0\u001B[39m, inplace\u001B[38;5;241m=\u001B[39m\u001B[38;5;28;01mTrue\u001B[39;00m)\n\u001B[0;32m     15\u001B[0m     \u001B[38;5;28;01mreturn\u001B[39;00m combined_df\n",
      "File \u001B[1;32m~\\anaconda3\\envs\\F1-Lap-Prediction\\Lib\\site-packages\\pandas\\core\\reshape\\merge.py:153\u001B[0m, in \u001B[0;36mmerge\u001B[1;34m(left, right, how, on, left_on, right_on, left_index, right_index, sort, suffixes, copy, indicator, validate)\u001B[0m\n\u001B[0;32m    135\u001B[0m \u001B[38;5;129m@Substitution\u001B[39m(\u001B[38;5;124m\"\u001B[39m\u001B[38;5;130;01m\\n\u001B[39;00m\u001B[38;5;124mleft : DataFrame or named Series\u001B[39m\u001B[38;5;124m\"\u001B[39m)\n\u001B[0;32m    136\u001B[0m \u001B[38;5;129m@Appender\u001B[39m(_merge_doc, indents\u001B[38;5;241m=\u001B[39m\u001B[38;5;241m0\u001B[39m)\n\u001B[0;32m    137\u001B[0m \u001B[38;5;28;01mdef\u001B[39;00m \u001B[38;5;21mmerge\u001B[39m(\n\u001B[1;32m   (...)\u001B[0m\n\u001B[0;32m    150\u001B[0m     validate: \u001B[38;5;28mstr\u001B[39m \u001B[38;5;241m|\u001B[39m \u001B[38;5;28;01mNone\u001B[39;00m \u001B[38;5;241m=\u001B[39m \u001B[38;5;28;01mNone\u001B[39;00m,\n\u001B[0;32m    151\u001B[0m ) \u001B[38;5;241m-\u001B[39m\u001B[38;5;241m>\u001B[39m DataFrame:\n\u001B[0;32m    152\u001B[0m     left_df \u001B[38;5;241m=\u001B[39m _validate_operand(left)\n\u001B[1;32m--> 153\u001B[0m     right_df \u001B[38;5;241m=\u001B[39m _validate_operand(right)\n\u001B[0;32m    154\u001B[0m     \u001B[38;5;28;01mif\u001B[39;00m how \u001B[38;5;241m==\u001B[39m \u001B[38;5;124m\"\u001B[39m\u001B[38;5;124mcross\u001B[39m\u001B[38;5;124m\"\u001B[39m:\n\u001B[0;32m    155\u001B[0m         \u001B[38;5;28;01mreturn\u001B[39;00m _cross_merge(\n\u001B[0;32m    156\u001B[0m             left_df,\n\u001B[0;32m    157\u001B[0m             right_df,\n\u001B[1;32m   (...)\u001B[0m\n\u001B[0;32m    167\u001B[0m             copy\u001B[38;5;241m=\u001B[39mcopy,\n\u001B[0;32m    168\u001B[0m         )\n",
      "File \u001B[1;32m~\\anaconda3\\envs\\F1-Lap-Prediction\\Lib\\site-packages\\pandas\\core\\reshape\\merge.py:2692\u001B[0m, in \u001B[0;36m_validate_operand\u001B[1;34m(obj)\u001B[0m\n\u001B[0;32m   2690\u001B[0m     \u001B[38;5;28;01mreturn\u001B[39;00m obj\u001B[38;5;241m.\u001B[39mto_frame()\n\u001B[0;32m   2691\u001B[0m \u001B[38;5;28;01melse\u001B[39;00m:\n\u001B[1;32m-> 2692\u001B[0m     \u001B[38;5;28;01mraise\u001B[39;00m \u001B[38;5;167;01mTypeError\u001B[39;00m(\n\u001B[0;32m   2693\u001B[0m         \u001B[38;5;124mf\u001B[39m\u001B[38;5;124m\"\u001B[39m\u001B[38;5;124mCan only merge Series or DataFrame objects, a \u001B[39m\u001B[38;5;132;01m{\u001B[39;00m\u001B[38;5;28mtype\u001B[39m(obj)\u001B[38;5;132;01m}\u001B[39;00m\u001B[38;5;124m was passed\u001B[39m\u001B[38;5;124m\"\u001B[39m\n\u001B[0;32m   2694\u001B[0m     )\n",
      "\u001B[1;31mTypeError\u001B[0m: Can only merge Series or DataFrame objects, a <class 'str'> was passed"
     ]
    }
   ],
   "source": [
    "# Preprocess the data\n",
    "main_df = preprocess_sessions(drivers_csv, session_data)\n",
    "main_df = preprocess(main_df, intervals_data)\n",
    "main_df = preprocess(main_df, pit_data)\n",
    "main_df = preprocess(main_df, position_data)\n",
    "main_df = preprocess(main_df, stint_data)\n",
    "main_df = preprocess_sessions(main_df, weather_data)\n",
    "\n",
    "# Preprocess lap data\n",
    "for lap_file in lap_data_files:\n",
    "    lap_data = pd.read_csv(lap_file)\n",
    "    main_df = preprocess(main_df, lap_data)\n",
    "\n",
    "# Prepare data for LSTM\n",
    "scaled_data, scaler = preprocess_for_lstm(main_df.values)\n",
    "X_train, y_train = scaled_data[:, :-1], scaled_data[:, -1]\n",
    "\n",
    "# Reshape input to be 3D [samples, timesteps, features]\n",
    "X_train = X_train.reshape((X_train.shape[0], 1, X_train.shape[1]))\n",
    "\n",
    "# Create and train model\n",
    "input_shape = (X_train.shape[1], X_train.shape[2])\n",
    "model = create_lstm_model(input_shape)\n",
    "model = train_lstm_model(model, X_train, y_train)"
   ],
   "metadata": {
    "collapsed": false,
    "ExecuteTime": {
     "end_time": "2024-07-08T20:34:03.484837200Z",
     "start_time": "2024-07-08T20:34:02.145720300Z"
    }
   },
   "id": "4a55c410a8de531b"
  }
 ],
 "metadata": {
  "kernelspec": {
   "display_name": "Python 3",
   "language": "python",
   "name": "python3"
  },
  "language_info": {
   "codemirror_mode": {
    "name": "ipython",
    "version": 2
   },
   "file_extension": ".py",
   "mimetype": "text/x-python",
   "name": "python",
   "nbconvert_exporter": "python",
   "pygments_lexer": "ipython2",
   "version": "2.7.6"
  }
 },
 "nbformat": 4,
 "nbformat_minor": 5
}
