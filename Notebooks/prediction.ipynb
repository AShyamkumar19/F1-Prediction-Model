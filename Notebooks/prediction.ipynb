{
 "cells": [
  {
   "cell_type": "code",
   "execution_count": null,
   "id": "initial_id",
   "metadata": {
    "collapsed": true
   },
   "outputs": [],
   "source": [
    "import pandas as pd\n",
    "import numpy as np\n",
    "from Data.preprocess import preprocess\n",
    "from Models.LSTM_model import create_lstm_model, preprocess_for_lstm"
   ]
  },
  {
   "cell_type": "code",
   "execution_count": null,
   "outputs": [],
   "source": [
    "# Load and preprocess data\n",
    "drivers_csv = '../data/drivers.csv'\n",
    "api_data = pd.read_csv('../data/weather_data.csv')\n",
    "data = preprocess(drivers_csv, api_data)\n",
    "\n",
    "# Prepare data for LSTM\n",
    "scaled_data, scaler = preprocess_for_lstm(data.values)\n",
    "X_test = scaled_data[:, :-1]\n",
    "\n",
    "# Reshape input to be 3D [samples, timesteps, features]\n",
    "X_test = X_test.reshape((X_test.shape[0], 1, X_test.shape[1]))\n",
    "\n",
    "# Load trained model\n",
    "input_shape = (X_test.shape[1], X_test.shape[2])\n",
    "model = create_lstm_model(input_shape)\n",
    "model.load_weights('../models/lstm_weights.h5')\n",
    "\n",
    "# Make predictions\n",
    "predictions = model.predict(X_test)\n",
    "predictions = scaler.inverse_transform(predictions)\n",
    "\n",
    "# Display predictions\n",
    "for i, prediction in enumerate(predictions):\n",
    "    print(f\"Driver {i+1}: Predicted Position: {prediction[0]}\")"
   ],
   "metadata": {
    "collapsed": false
   },
   "id": "8329c436d8e4e9ae"
  },
  {
   "cell_type": "code",
   "execution_count": null,
   "outputs": [],
   "source": [],
   "metadata": {
    "collapsed": false
   },
   "id": "9405cffd3f9807c4"
  }
 ],
 "metadata": {
  "kernelspec": {
   "display_name": "Python 3",
   "language": "python",
   "name": "python3"
  },
  "language_info": {
   "codemirror_mode": {
    "name": "ipython",
    "version": 2
   },
   "file_extension": ".py",
   "mimetype": "text/x-python",
   "name": "python",
   "nbconvert_exporter": "python",
   "pygments_lexer": "ipython2",
   "version": "2.7.6"
  }
 },
 "nbformat": 4,
 "nbformat_minor": 5
}
